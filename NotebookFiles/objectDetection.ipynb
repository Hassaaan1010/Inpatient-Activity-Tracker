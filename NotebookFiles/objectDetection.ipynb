{
 "cells": [
  {
   "cell_type": "code",
   "execution_count": 1,
   "metadata": {},
   "outputs": [],
   "source": [
    "import cv2\n",
    "import time"
   ]
  },
  {
   "cell_type": "code",
   "execution_count": null,
   "metadata": {},
   "outputs": [],
   "source": []
  },
  {
   "cell_type": "code",
   "execution_count": 2,
   "metadata": {},
   "outputs": [],
   "source": [
    "classNames = []\n",
    "classFile = \"coco.names\"\n",
    "\n",
    "with open(classFile, \"rt\") as f:\n",
    "    classNames = f.read().rstrip(\"\\n\").split(\"\\n\")\n",
    "# print(classNames)\n",
    "\n",
    "configPath = \"ssd_mobilenet_v3_large_coco_2020_01_14.pbtxt\"\n",
    "weightsPath = \"frozen_inference_graph.pb\""
   ]
  },
  {
   "cell_type": "code",
   "execution_count": 3,
   "metadata": {},
   "outputs": [],
   "source": [
    "# SETTINGS\n",
    "# img = cv2.imread(\"wick.jpg\")\n",
    "# cap = cv2.VideoCapture()\n",
    "# cap.set(3, 640)\n",
    "# cap.set(4, 480)\n",
    "\n",
    "# net setup\n",
    "net = cv2.dnn_DetectionModel(weightsPath, configPath)\n",
    "net.setInputSize(320, 320)\n",
    "net.setInputScale(1.0 / 127.5)\n",
    "net.setInputMean((127.5, 127.5, 127.5))\n",
    "net.setInputSwapRB(True)\n",
    "\n",
    "\n",
    "# frame rate setup\n",
    "last_frame_time = 0\n",
    "frame_interval = 0.2  # seconds"
   ]
  },
  {
   "cell_type": "code",
   "execution_count": 12,
   "metadata": {},
   "outputs": [],
   "source": [
    "cap = cv2.VideoCapture(0)\n",
    "while True:\n",
    "    try:\n",
    "\n",
    "        # if the frame wait interval is longer than 1s, the program will sleep for 90% of the wait and update time before moving on.\n",
    "        current_time = time.time()\n",
    "        if frame_interval > 1 and current_time - last_frame_time < frame_interval:\n",
    "            time.sleep(0.9 * frame_interval)\n",
    "            current_time = time.time()\n",
    "\n",
    "        # else it will only\n",
    "        if current_time - last_frame_time >= frame_interval:\n",
    "            ret, frame = cap.read()\n",
    "            if not ret:\n",
    "                print(\"Failed to grab frame\")\n",
    "                break\n",
    "\n",
    "            # detect objects\n",
    "            classIds, confs, bbox = net.detect(frame, confThreshold=0.5)\n",
    "\n",
    "            # add rectagle and label to each object\n",
    "            try:\n",
    "                for classId, confidence, box in zip(\n",
    "                    classIds.flatten(), confs.flatten(), bbox\n",
    "                ):\n",
    "                    # print(box)\n",
    "                    cv2.rectangle(frame, box, color=(0, 255, 0), thickness=2)\n",
    "                    cv2.putText(\n",
    "                        frame,\n",
    "                        classNames[classId - 1],\n",
    "                        (box[0] + 10, box[1] + 30),\n",
    "                        cv2.FONT_HERSHEY_COMPLEX,\n",
    "                        1,\n",
    "                        (255, 0, 0),\n",
    "                        2,\n",
    "                    )\n",
    "            except:\n",
    "                # nothing detected. continue to next image.\n",
    "                continue\n",
    "\n",
    "            # render image\n",
    "            cv2.imshow(\"output\", frame)\n",
    "\n",
    "            last_frame_time = current_time\n",
    "\n",
    "        # quit\n",
    "        if cv2.waitKey(10) & 0xFF == ord(\"q\"):\n",
    "            break\n",
    "    except Exception as e:\n",
    "        cap.release()\n",
    "        cv2.destroyAllWindows()\n",
    "        print(\"Something went wrong: \", e)\n",
    "\n",
    "# close image window\n",
    "cap.release()\n",
    "cv2.destroyAllWindows()"
   ]
  },
  {
   "cell_type": "code",
   "execution_count": 14,
   "metadata": {},
   "outputs": [],
   "source": [
    "img = cv2.imread(\"wick.jpg\")\n",
    "\n",
    "for classId, confidence, box in zip(classIds.flatten(), confs.flatten(), bbox):\n",
    "    cv2.rectangle(img, box, color=(0, 255, 0), thickness=2)\n",
    "while True:\n",
    "\n",
    "    cv2.imshow(\"output\", img)\n",
    "    cv2.putText(\n",
    "        img,\n",
    "        classNames[classId - 1],\n",
    "        (box[0] + 10, box[1] + 30),\n",
    "        cv2.FONT_HERSHEY_COMPLEX,\n",
    "        1,\n",
    "        (255, 0, 0),\n",
    "        2,\n",
    "    )\n",
    "    if cv2.waitKey(10) & 0xFF == ord(\"q\"):\n",
    "        break\n",
    "\n",
    "cv2.destroyAllWindows()"
   ]
  },
  {
   "cell_type": "code",
   "execution_count": null,
   "metadata": {},
   "outputs": [],
   "source": []
  },
  {
   "cell_type": "code",
   "execution_count": 23,
   "metadata": {},
   "outputs": [
    {
     "name": "stdout",
     "output_type": "stream",
     "text": [
      "10.1 ms ± 7.63 µs per loop (mean ± std. dev. of 7 runs, 100 loops each)\n"
     ]
    }
   ],
   "source": [
    "%%timeit\n",
    "\n",
    "time.sleep(0.01)"
   ]
  },
  {
   "cell_type": "code",
   "execution_count": null,
   "metadata": {},
   "outputs": [],
   "source": []
  }
 ],
 "metadata": {
  "kernelspec": {
   "display_name": "Python 3",
   "language": "python",
   "name": "python3"
  },
  "language_info": {
   "codemirror_mode": {
    "name": "ipython",
    "version": 3
   },
   "file_extension": ".py",
   "mimetype": "text/x-python",
   "name": "python",
   "nbconvert_exporter": "python",
   "pygments_lexer": "ipython3",
   "version": "3.10.12"
  }
 },
 "nbformat": 4,
 "nbformat_minor": 2
}
